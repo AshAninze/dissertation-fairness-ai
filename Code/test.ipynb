{
 "cells": [
  {
   "cell_type": "code",
   "execution_count": 1,
   "metadata": {},
   "outputs": [
    {
     "data": {
      "application/vnd.microsoft.datawrangler.viewer.v0+json": {
       "columns": [
        {
         "name": "index",
         "rawType": "int64",
         "type": "integer"
        },
        {
         "name": "subject_id",
         "rawType": "int64",
         "type": "integer"
        },
        {
         "name": "hadm_id",
         "rawType": "int64",
         "type": "integer"
        },
        {
         "name": "admittime",
         "rawType": "object",
         "type": "string"
        },
        {
         "name": "dischtime",
         "rawType": "object",
         "type": "string"
        },
        {
         "name": "deathtime",
         "rawType": "object",
         "type": "unknown"
        },
        {
         "name": "admission_type",
         "rawType": "object",
         "type": "string"
        },
        {
         "name": "admit_provider_id",
         "rawType": "object",
         "type": "string"
        },
        {
         "name": "admission_location",
         "rawType": "object",
         "type": "string"
        },
        {
         "name": "discharge_location",
         "rawType": "object",
         "type": "unknown"
        },
        {
         "name": "insurance",
         "rawType": "object",
         "type": "unknown"
        },
        {
         "name": "language",
         "rawType": "object",
         "type": "string"
        },
        {
         "name": "marital_status",
         "rawType": "object",
         "type": "string"
        },
        {
         "name": "race",
         "rawType": "object",
         "type": "string"
        },
        {
         "name": "edregtime",
         "rawType": "object",
         "type": "string"
        },
        {
         "name": "edouttime",
         "rawType": "object",
         "type": "string"
        },
        {
         "name": "hospital_expire_flag",
         "rawType": "int64",
         "type": "integer"
        }
       ],
       "ref": "0c284cd2-499d-426b-a0ba-59890715a309",
       "rows": [
        [
         "0",
         "10000032",
         "22595853",
         "2180-05-06 22:23:00",
         "2180-05-07 17:15:00",
         null,
         "URGENT",
         "P49AFC",
         "TRANSFER FROM HOSPITAL",
         "HOME",
         "Medicaid",
         "English",
         "WIDOWED",
         "WHITE",
         "2180-05-06 19:17:00",
         "2180-05-06 23:30:00",
         "0"
        ],
        [
         "1",
         "10000032",
         "22841357",
         "2180-06-26 18:27:00",
         "2180-06-27 18:49:00",
         null,
         "EW EMER.",
         "P784FA",
         "EMERGENCY ROOM",
         "HOME",
         "Medicaid",
         "English",
         "WIDOWED",
         "WHITE",
         "2180-06-26 15:54:00",
         "2180-06-26 21:31:00",
         "0"
        ],
        [
         "2",
         "10000032",
         "25742920",
         "2180-08-05 23:44:00",
         "2180-08-07 17:50:00",
         null,
         "EW EMER.",
         "P19UTS",
         "EMERGENCY ROOM",
         "HOSPICE",
         "Medicaid",
         "English",
         "WIDOWED",
         "WHITE",
         "2180-08-05 20:58:00",
         "2180-08-06 01:44:00",
         "0"
        ],
        [
         "3",
         "10000032",
         "29079034",
         "2180-07-23 12:35:00",
         "2180-07-25 17:55:00",
         null,
         "EW EMER.",
         "P06OTX",
         "EMERGENCY ROOM",
         "HOME",
         "Medicaid",
         "English",
         "WIDOWED",
         "WHITE",
         "2180-07-23 05:54:00",
         "2180-07-23 14:00:00",
         "0"
        ],
        [
         "4",
         "10000068",
         "25022803",
         "2160-03-03 23:16:00",
         "2160-03-04 06:26:00",
         null,
         "EU OBSERVATION",
         "P39NWO",
         "EMERGENCY ROOM",
         null,
         null,
         "English",
         "SINGLE",
         "WHITE",
         "2160-03-03 21:55:00",
         "2160-03-04 06:26:00",
         "0"
        ]
       ],
       "shape": {
        "columns": 16,
        "rows": 5
       }
      },
      "text/html": [
       "<div>\n",
       "<style scoped>\n",
       "    .dataframe tbody tr th:only-of-type {\n",
       "        vertical-align: middle;\n",
       "    }\n",
       "\n",
       "    .dataframe tbody tr th {\n",
       "        vertical-align: top;\n",
       "    }\n",
       "\n",
       "    .dataframe thead th {\n",
       "        text-align: right;\n",
       "    }\n",
       "</style>\n",
       "<table border=\"1\" class=\"dataframe\">\n",
       "  <thead>\n",
       "    <tr style=\"text-align: right;\">\n",
       "      <th></th>\n",
       "      <th>subject_id</th>\n",
       "      <th>hadm_id</th>\n",
       "      <th>admittime</th>\n",
       "      <th>dischtime</th>\n",
       "      <th>deathtime</th>\n",
       "      <th>admission_type</th>\n",
       "      <th>admit_provider_id</th>\n",
       "      <th>admission_location</th>\n",
       "      <th>discharge_location</th>\n",
       "      <th>insurance</th>\n",
       "      <th>language</th>\n",
       "      <th>marital_status</th>\n",
       "      <th>race</th>\n",
       "      <th>edregtime</th>\n",
       "      <th>edouttime</th>\n",
       "      <th>hospital_expire_flag</th>\n",
       "    </tr>\n",
       "  </thead>\n",
       "  <tbody>\n",
       "    <tr>\n",
       "      <th>0</th>\n",
       "      <td>10000032</td>\n",
       "      <td>22595853</td>\n",
       "      <td>2180-05-06 22:23:00</td>\n",
       "      <td>2180-05-07 17:15:00</td>\n",
       "      <td>NaN</td>\n",
       "      <td>URGENT</td>\n",
       "      <td>P49AFC</td>\n",
       "      <td>TRANSFER FROM HOSPITAL</td>\n",
       "      <td>HOME</td>\n",
       "      <td>Medicaid</td>\n",
       "      <td>English</td>\n",
       "      <td>WIDOWED</td>\n",
       "      <td>WHITE</td>\n",
       "      <td>2180-05-06 19:17:00</td>\n",
       "      <td>2180-05-06 23:30:00</td>\n",
       "      <td>0</td>\n",
       "    </tr>\n",
       "    <tr>\n",
       "      <th>1</th>\n",
       "      <td>10000032</td>\n",
       "      <td>22841357</td>\n",
       "      <td>2180-06-26 18:27:00</td>\n",
       "      <td>2180-06-27 18:49:00</td>\n",
       "      <td>NaN</td>\n",
       "      <td>EW EMER.</td>\n",
       "      <td>P784FA</td>\n",
       "      <td>EMERGENCY ROOM</td>\n",
       "      <td>HOME</td>\n",
       "      <td>Medicaid</td>\n",
       "      <td>English</td>\n",
       "      <td>WIDOWED</td>\n",
       "      <td>WHITE</td>\n",
       "      <td>2180-06-26 15:54:00</td>\n",
       "      <td>2180-06-26 21:31:00</td>\n",
       "      <td>0</td>\n",
       "    </tr>\n",
       "    <tr>\n",
       "      <th>2</th>\n",
       "      <td>10000032</td>\n",
       "      <td>25742920</td>\n",
       "      <td>2180-08-05 23:44:00</td>\n",
       "      <td>2180-08-07 17:50:00</td>\n",
       "      <td>NaN</td>\n",
       "      <td>EW EMER.</td>\n",
       "      <td>P19UTS</td>\n",
       "      <td>EMERGENCY ROOM</td>\n",
       "      <td>HOSPICE</td>\n",
       "      <td>Medicaid</td>\n",
       "      <td>English</td>\n",
       "      <td>WIDOWED</td>\n",
       "      <td>WHITE</td>\n",
       "      <td>2180-08-05 20:58:00</td>\n",
       "      <td>2180-08-06 01:44:00</td>\n",
       "      <td>0</td>\n",
       "    </tr>\n",
       "    <tr>\n",
       "      <th>3</th>\n",
       "      <td>10000032</td>\n",
       "      <td>29079034</td>\n",
       "      <td>2180-07-23 12:35:00</td>\n",
       "      <td>2180-07-25 17:55:00</td>\n",
       "      <td>NaN</td>\n",
       "      <td>EW EMER.</td>\n",
       "      <td>P06OTX</td>\n",
       "      <td>EMERGENCY ROOM</td>\n",
       "      <td>HOME</td>\n",
       "      <td>Medicaid</td>\n",
       "      <td>English</td>\n",
       "      <td>WIDOWED</td>\n",
       "      <td>WHITE</td>\n",
       "      <td>2180-07-23 05:54:00</td>\n",
       "      <td>2180-07-23 14:00:00</td>\n",
       "      <td>0</td>\n",
       "    </tr>\n",
       "    <tr>\n",
       "      <th>4</th>\n",
       "      <td>10000068</td>\n",
       "      <td>25022803</td>\n",
       "      <td>2160-03-03 23:16:00</td>\n",
       "      <td>2160-03-04 06:26:00</td>\n",
       "      <td>NaN</td>\n",
       "      <td>EU OBSERVATION</td>\n",
       "      <td>P39NWO</td>\n",
       "      <td>EMERGENCY ROOM</td>\n",
       "      <td>NaN</td>\n",
       "      <td>NaN</td>\n",
       "      <td>English</td>\n",
       "      <td>SINGLE</td>\n",
       "      <td>WHITE</td>\n",
       "      <td>2160-03-03 21:55:00</td>\n",
       "      <td>2160-03-04 06:26:00</td>\n",
       "      <td>0</td>\n",
       "    </tr>\n",
       "  </tbody>\n",
       "</table>\n",
       "</div>"
      ],
      "text/plain": [
       "   subject_id   hadm_id            admittime            dischtime deathtime  \\\n",
       "0    10000032  22595853  2180-05-06 22:23:00  2180-05-07 17:15:00       NaN   \n",
       "1    10000032  22841357  2180-06-26 18:27:00  2180-06-27 18:49:00       NaN   \n",
       "2    10000032  25742920  2180-08-05 23:44:00  2180-08-07 17:50:00       NaN   \n",
       "3    10000032  29079034  2180-07-23 12:35:00  2180-07-25 17:55:00       NaN   \n",
       "4    10000068  25022803  2160-03-03 23:16:00  2160-03-04 06:26:00       NaN   \n",
       "\n",
       "   admission_type admit_provider_id      admission_location  \\\n",
       "0          URGENT            P49AFC  TRANSFER FROM HOSPITAL   \n",
       "1        EW EMER.            P784FA          EMERGENCY ROOM   \n",
       "2        EW EMER.            P19UTS          EMERGENCY ROOM   \n",
       "3        EW EMER.            P06OTX          EMERGENCY ROOM   \n",
       "4  EU OBSERVATION            P39NWO          EMERGENCY ROOM   \n",
       "\n",
       "  discharge_location insurance language marital_status   race  \\\n",
       "0               HOME  Medicaid  English        WIDOWED  WHITE   \n",
       "1               HOME  Medicaid  English        WIDOWED  WHITE   \n",
       "2            HOSPICE  Medicaid  English        WIDOWED  WHITE   \n",
       "3               HOME  Medicaid  English        WIDOWED  WHITE   \n",
       "4                NaN       NaN  English         SINGLE  WHITE   \n",
       "\n",
       "             edregtime            edouttime  hospital_expire_flag  \n",
       "0  2180-05-06 19:17:00  2180-05-06 23:30:00                     0  \n",
       "1  2180-06-26 15:54:00  2180-06-26 21:31:00                     0  \n",
       "2  2180-08-05 20:58:00  2180-08-06 01:44:00                     0  \n",
       "3  2180-07-23 05:54:00  2180-07-23 14:00:00                     0  \n",
       "4  2160-03-03 21:55:00  2160-03-04 06:26:00                     0  "
      ]
     },
     "execution_count": 1,
     "metadata": {},
     "output_type": "execute_result"
    }
   ],
   "source": [
    "import pandas as pd\n",
    "import matplotlib.pyplot as plt\n",
    "import seaborn as sns\n",
    "\n",
    "data_path = r'C:\\Users\\aaani\\OneDrive - Birmingham City University\\Postgrad\\Dissertation\\Data'\n",
    "admissions = pd.read_csv(f'{data_path}/admissions.csv/admissions.csv')\n",
    "patients = pd.read_csv(f'{data_path}/patients.csv/patients.csv')\n",
    "admissions.head()"
   ]
  },
  {
   "cell_type": "code",
   "execution_count": 6,
   "metadata": {},
   "outputs": [
    {
     "data": {
      "application/vnd.microsoft.datawrangler.viewer.v0+json": {
       "columns": [
        {
         "name": "index",
         "rawType": "int64",
         "type": "integer"
        },
        {
         "name": "subject_id",
         "rawType": "int64",
         "type": "integer"
        },
        {
         "name": "gender",
         "rawType": "object",
         "type": "string"
        },
        {
         "name": "anchor_age",
         "rawType": "int64",
         "type": "integer"
        },
        {
         "name": "anchor_year",
         "rawType": "int64",
         "type": "integer"
        },
        {
         "name": "anchor_year_group",
         "rawType": "object",
         "type": "string"
        },
        {
         "name": "dod",
         "rawType": "object",
         "type": "unknown"
        }
       ],
       "ref": "d8f3f2a5-3e56-4e23-9cc5-fae82685c051",
       "rows": [
        [
         "0",
         "10000032",
         "F",
         "52",
         "2180",
         "2014 - 2016",
         "2180-09-09"
        ],
        [
         "1",
         "10000048",
         "F",
         "23",
         "2126",
         "2008 - 2010",
         null
        ],
        [
         "2",
         "10000058",
         "F",
         "33",
         "2168",
         "2020 - 2022",
         null
        ],
        [
         "3",
         "10000068",
         "F",
         "19",
         "2160",
         "2008 - 2010",
         null
        ],
        [
         "4",
         "10000084",
         "M",
         "72",
         "2160",
         "2017 - 2019",
         "2161-02-13"
        ]
       ],
       "shape": {
        "columns": 6,
        "rows": 5
       }
      },
      "text/html": [
       "<div>\n",
       "<style scoped>\n",
       "    .dataframe tbody tr th:only-of-type {\n",
       "        vertical-align: middle;\n",
       "    }\n",
       "\n",
       "    .dataframe tbody tr th {\n",
       "        vertical-align: top;\n",
       "    }\n",
       "\n",
       "    .dataframe thead th {\n",
       "        text-align: right;\n",
       "    }\n",
       "</style>\n",
       "<table border=\"1\" class=\"dataframe\">\n",
       "  <thead>\n",
       "    <tr style=\"text-align: right;\">\n",
       "      <th></th>\n",
       "      <th>subject_id</th>\n",
       "      <th>gender</th>\n",
       "      <th>anchor_age</th>\n",
       "      <th>anchor_year</th>\n",
       "      <th>anchor_year_group</th>\n",
       "      <th>dod</th>\n",
       "    </tr>\n",
       "  </thead>\n",
       "  <tbody>\n",
       "    <tr>\n",
       "      <th>0</th>\n",
       "      <td>10000032</td>\n",
       "      <td>F</td>\n",
       "      <td>52</td>\n",
       "      <td>2180</td>\n",
       "      <td>2014 - 2016</td>\n",
       "      <td>2180-09-09</td>\n",
       "    </tr>\n",
       "    <tr>\n",
       "      <th>1</th>\n",
       "      <td>10000048</td>\n",
       "      <td>F</td>\n",
       "      <td>23</td>\n",
       "      <td>2126</td>\n",
       "      <td>2008 - 2010</td>\n",
       "      <td>NaN</td>\n",
       "    </tr>\n",
       "    <tr>\n",
       "      <th>2</th>\n",
       "      <td>10000058</td>\n",
       "      <td>F</td>\n",
       "      <td>33</td>\n",
       "      <td>2168</td>\n",
       "      <td>2020 - 2022</td>\n",
       "      <td>NaN</td>\n",
       "    </tr>\n",
       "    <tr>\n",
       "      <th>3</th>\n",
       "      <td>10000068</td>\n",
       "      <td>F</td>\n",
       "      <td>19</td>\n",
       "      <td>2160</td>\n",
       "      <td>2008 - 2010</td>\n",
       "      <td>NaN</td>\n",
       "    </tr>\n",
       "    <tr>\n",
       "      <th>4</th>\n",
       "      <td>10000084</td>\n",
       "      <td>M</td>\n",
       "      <td>72</td>\n",
       "      <td>2160</td>\n",
       "      <td>2017 - 2019</td>\n",
       "      <td>2161-02-13</td>\n",
       "    </tr>\n",
       "  </tbody>\n",
       "</table>\n",
       "</div>"
      ],
      "text/plain": [
       "   subject_id gender  anchor_age  anchor_year anchor_year_group         dod\n",
       "0    10000032      F          52         2180       2014 - 2016  2180-09-09\n",
       "1    10000048      F          23         2126       2008 - 2010         NaN\n",
       "2    10000058      F          33         2168       2020 - 2022         NaN\n",
       "3    10000068      F          19         2160       2008 - 2010         NaN\n",
       "4    10000084      M          72         2160       2017 - 2019  2161-02-13"
      ]
     },
     "execution_count": 6,
     "metadata": {},
     "output_type": "execute_result"
    }
   ],
   "source": [
    "patients.head()"
   ]
  },
  {
   "cell_type": "code",
   "execution_count": 8,
   "metadata": {},
   "outputs": [
    {
     "data": {
      "application/vnd.microsoft.datawrangler.viewer.v0+json": {
       "columns": [
        {
         "name": "index",
         "rawType": "int64",
         "type": "integer"
        },
        {
         "name": "subject_id",
         "rawType": "int64",
         "type": "integer"
        },
        {
         "name": "hadm_id",
         "rawType": "int64",
         "type": "integer"
        },
        {
         "name": "admittime",
         "rawType": "object",
         "type": "string"
        },
        {
         "name": "dischtime",
         "rawType": "object",
         "type": "string"
        },
        {
         "name": "deathtime",
         "rawType": "object",
         "type": "unknown"
        },
        {
         "name": "admission_type",
         "rawType": "object",
         "type": "string"
        },
        {
         "name": "admit_provider_id",
         "rawType": "object",
         "type": "string"
        },
        {
         "name": "admission_location",
         "rawType": "object",
         "type": "string"
        },
        {
         "name": "discharge_location",
         "rawType": "object",
         "type": "unknown"
        },
        {
         "name": "insurance",
         "rawType": "object",
         "type": "unknown"
        },
        {
         "name": "language",
         "rawType": "object",
         "type": "string"
        },
        {
         "name": "marital_status",
         "rawType": "object",
         "type": "string"
        },
        {
         "name": "race",
         "rawType": "object",
         "type": "string"
        },
        {
         "name": "edregtime",
         "rawType": "object",
         "type": "string"
        },
        {
         "name": "edouttime",
         "rawType": "object",
         "type": "string"
        },
        {
         "name": "hospital_expire_flag",
         "rawType": "int64",
         "type": "integer"
        },
        {
         "name": "gender",
         "rawType": "object",
         "type": "string"
        },
        {
         "name": "anchor_age",
         "rawType": "int64",
         "type": "integer"
        },
        {
         "name": "anchor_year",
         "rawType": "int64",
         "type": "integer"
        },
        {
         "name": "anchor_year_group",
         "rawType": "object",
         "type": "string"
        },
        {
         "name": "dod",
         "rawType": "object",
         "type": "unknown"
        }
       ],
       "ref": "b3ec09bf-2fdf-4b0b-90e9-f00ce89eef5a",
       "rows": [
        [
         "0",
         "10000032",
         "22595853",
         "2180-05-06 22:23:00",
         "2180-05-07 17:15:00",
         null,
         "URGENT",
         "P49AFC",
         "TRANSFER FROM HOSPITAL",
         "HOME",
         "Medicaid",
         "English",
         "WIDOWED",
         "WHITE",
         "2180-05-06 19:17:00",
         "2180-05-06 23:30:00",
         "0",
         "F",
         "52",
         "2180",
         "2014 - 2016",
         "2180-09-09"
        ],
        [
         "1",
         "10000032",
         "22841357",
         "2180-06-26 18:27:00",
         "2180-06-27 18:49:00",
         null,
         "EW EMER.",
         "P784FA",
         "EMERGENCY ROOM",
         "HOME",
         "Medicaid",
         "English",
         "WIDOWED",
         "WHITE",
         "2180-06-26 15:54:00",
         "2180-06-26 21:31:00",
         "0",
         "F",
         "52",
         "2180",
         "2014 - 2016",
         "2180-09-09"
        ],
        [
         "2",
         "10000032",
         "25742920",
         "2180-08-05 23:44:00",
         "2180-08-07 17:50:00",
         null,
         "EW EMER.",
         "P19UTS",
         "EMERGENCY ROOM",
         "HOSPICE",
         "Medicaid",
         "English",
         "WIDOWED",
         "WHITE",
         "2180-08-05 20:58:00",
         "2180-08-06 01:44:00",
         "0",
         "F",
         "52",
         "2180",
         "2014 - 2016",
         "2180-09-09"
        ],
        [
         "3",
         "10000032",
         "29079034",
         "2180-07-23 12:35:00",
         "2180-07-25 17:55:00",
         null,
         "EW EMER.",
         "P06OTX",
         "EMERGENCY ROOM",
         "HOME",
         "Medicaid",
         "English",
         "WIDOWED",
         "WHITE",
         "2180-07-23 05:54:00",
         "2180-07-23 14:00:00",
         "0",
         "F",
         "52",
         "2180",
         "2014 - 2016",
         "2180-09-09"
        ],
        [
         "4",
         "10000068",
         "25022803",
         "2160-03-03 23:16:00",
         "2160-03-04 06:26:00",
         null,
         "EU OBSERVATION",
         "P39NWO",
         "EMERGENCY ROOM",
         null,
         null,
         "English",
         "SINGLE",
         "WHITE",
         "2160-03-03 21:55:00",
         "2160-03-04 06:26:00",
         "0",
         "F",
         "19",
         "2160",
         "2008 - 2010",
         null
        ]
       ],
       "shape": {
        "columns": 21,
        "rows": 5
       }
      },
      "text/html": [
       "<div>\n",
       "<style scoped>\n",
       "    .dataframe tbody tr th:only-of-type {\n",
       "        vertical-align: middle;\n",
       "    }\n",
       "\n",
       "    .dataframe tbody tr th {\n",
       "        vertical-align: top;\n",
       "    }\n",
       "\n",
       "    .dataframe thead th {\n",
       "        text-align: right;\n",
       "    }\n",
       "</style>\n",
       "<table border=\"1\" class=\"dataframe\">\n",
       "  <thead>\n",
       "    <tr style=\"text-align: right;\">\n",
       "      <th></th>\n",
       "      <th>subject_id</th>\n",
       "      <th>hadm_id</th>\n",
       "      <th>admittime</th>\n",
       "      <th>dischtime</th>\n",
       "      <th>deathtime</th>\n",
       "      <th>admission_type</th>\n",
       "      <th>admit_provider_id</th>\n",
       "      <th>admission_location</th>\n",
       "      <th>discharge_location</th>\n",
       "      <th>insurance</th>\n",
       "      <th>...</th>\n",
       "      <th>marital_status</th>\n",
       "      <th>race</th>\n",
       "      <th>edregtime</th>\n",
       "      <th>edouttime</th>\n",
       "      <th>hospital_expire_flag</th>\n",
       "      <th>gender</th>\n",
       "      <th>anchor_age</th>\n",
       "      <th>anchor_year</th>\n",
       "      <th>anchor_year_group</th>\n",
       "      <th>dod</th>\n",
       "    </tr>\n",
       "  </thead>\n",
       "  <tbody>\n",
       "    <tr>\n",
       "      <th>0</th>\n",
       "      <td>10000032</td>\n",
       "      <td>22595853</td>\n",
       "      <td>2180-05-06 22:23:00</td>\n",
       "      <td>2180-05-07 17:15:00</td>\n",
       "      <td>NaN</td>\n",
       "      <td>URGENT</td>\n",
       "      <td>P49AFC</td>\n",
       "      <td>TRANSFER FROM HOSPITAL</td>\n",
       "      <td>HOME</td>\n",
       "      <td>Medicaid</td>\n",
       "      <td>...</td>\n",
       "      <td>WIDOWED</td>\n",
       "      <td>WHITE</td>\n",
       "      <td>2180-05-06 19:17:00</td>\n",
       "      <td>2180-05-06 23:30:00</td>\n",
       "      <td>0</td>\n",
       "      <td>F</td>\n",
       "      <td>52</td>\n",
       "      <td>2180</td>\n",
       "      <td>2014 - 2016</td>\n",
       "      <td>2180-09-09</td>\n",
       "    </tr>\n",
       "    <tr>\n",
       "      <th>1</th>\n",
       "      <td>10000032</td>\n",
       "      <td>22841357</td>\n",
       "      <td>2180-06-26 18:27:00</td>\n",
       "      <td>2180-06-27 18:49:00</td>\n",
       "      <td>NaN</td>\n",
       "      <td>EW EMER.</td>\n",
       "      <td>P784FA</td>\n",
       "      <td>EMERGENCY ROOM</td>\n",
       "      <td>HOME</td>\n",
       "      <td>Medicaid</td>\n",
       "      <td>...</td>\n",
       "      <td>WIDOWED</td>\n",
       "      <td>WHITE</td>\n",
       "      <td>2180-06-26 15:54:00</td>\n",
       "      <td>2180-06-26 21:31:00</td>\n",
       "      <td>0</td>\n",
       "      <td>F</td>\n",
       "      <td>52</td>\n",
       "      <td>2180</td>\n",
       "      <td>2014 - 2016</td>\n",
       "      <td>2180-09-09</td>\n",
       "    </tr>\n",
       "    <tr>\n",
       "      <th>2</th>\n",
       "      <td>10000032</td>\n",
       "      <td>25742920</td>\n",
       "      <td>2180-08-05 23:44:00</td>\n",
       "      <td>2180-08-07 17:50:00</td>\n",
       "      <td>NaN</td>\n",
       "      <td>EW EMER.</td>\n",
       "      <td>P19UTS</td>\n",
       "      <td>EMERGENCY ROOM</td>\n",
       "      <td>HOSPICE</td>\n",
       "      <td>Medicaid</td>\n",
       "      <td>...</td>\n",
       "      <td>WIDOWED</td>\n",
       "      <td>WHITE</td>\n",
       "      <td>2180-08-05 20:58:00</td>\n",
       "      <td>2180-08-06 01:44:00</td>\n",
       "      <td>0</td>\n",
       "      <td>F</td>\n",
       "      <td>52</td>\n",
       "      <td>2180</td>\n",
       "      <td>2014 - 2016</td>\n",
       "      <td>2180-09-09</td>\n",
       "    </tr>\n",
       "    <tr>\n",
       "      <th>3</th>\n",
       "      <td>10000032</td>\n",
       "      <td>29079034</td>\n",
       "      <td>2180-07-23 12:35:00</td>\n",
       "      <td>2180-07-25 17:55:00</td>\n",
       "      <td>NaN</td>\n",
       "      <td>EW EMER.</td>\n",
       "      <td>P06OTX</td>\n",
       "      <td>EMERGENCY ROOM</td>\n",
       "      <td>HOME</td>\n",
       "      <td>Medicaid</td>\n",
       "      <td>...</td>\n",
       "      <td>WIDOWED</td>\n",
       "      <td>WHITE</td>\n",
       "      <td>2180-07-23 05:54:00</td>\n",
       "      <td>2180-07-23 14:00:00</td>\n",
       "      <td>0</td>\n",
       "      <td>F</td>\n",
       "      <td>52</td>\n",
       "      <td>2180</td>\n",
       "      <td>2014 - 2016</td>\n",
       "      <td>2180-09-09</td>\n",
       "    </tr>\n",
       "    <tr>\n",
       "      <th>4</th>\n",
       "      <td>10000068</td>\n",
       "      <td>25022803</td>\n",
       "      <td>2160-03-03 23:16:00</td>\n",
       "      <td>2160-03-04 06:26:00</td>\n",
       "      <td>NaN</td>\n",
       "      <td>EU OBSERVATION</td>\n",
       "      <td>P39NWO</td>\n",
       "      <td>EMERGENCY ROOM</td>\n",
       "      <td>NaN</td>\n",
       "      <td>NaN</td>\n",
       "      <td>...</td>\n",
       "      <td>SINGLE</td>\n",
       "      <td>WHITE</td>\n",
       "      <td>2160-03-03 21:55:00</td>\n",
       "      <td>2160-03-04 06:26:00</td>\n",
       "      <td>0</td>\n",
       "      <td>F</td>\n",
       "      <td>19</td>\n",
       "      <td>2160</td>\n",
       "      <td>2008 - 2010</td>\n",
       "      <td>NaN</td>\n",
       "    </tr>\n",
       "  </tbody>\n",
       "</table>\n",
       "<p>5 rows × 21 columns</p>\n",
       "</div>"
      ],
      "text/plain": [
       "   subject_id   hadm_id            admittime            dischtime deathtime  \\\n",
       "0    10000032  22595853  2180-05-06 22:23:00  2180-05-07 17:15:00       NaN   \n",
       "1    10000032  22841357  2180-06-26 18:27:00  2180-06-27 18:49:00       NaN   \n",
       "2    10000032  25742920  2180-08-05 23:44:00  2180-08-07 17:50:00       NaN   \n",
       "3    10000032  29079034  2180-07-23 12:35:00  2180-07-25 17:55:00       NaN   \n",
       "4    10000068  25022803  2160-03-03 23:16:00  2160-03-04 06:26:00       NaN   \n",
       "\n",
       "   admission_type admit_provider_id      admission_location  \\\n",
       "0          URGENT            P49AFC  TRANSFER FROM HOSPITAL   \n",
       "1        EW EMER.            P784FA          EMERGENCY ROOM   \n",
       "2        EW EMER.            P19UTS          EMERGENCY ROOM   \n",
       "3        EW EMER.            P06OTX          EMERGENCY ROOM   \n",
       "4  EU OBSERVATION            P39NWO          EMERGENCY ROOM   \n",
       "\n",
       "  discharge_location insurance  ... marital_status   race  \\\n",
       "0               HOME  Medicaid  ...        WIDOWED  WHITE   \n",
       "1               HOME  Medicaid  ...        WIDOWED  WHITE   \n",
       "2            HOSPICE  Medicaid  ...        WIDOWED  WHITE   \n",
       "3               HOME  Medicaid  ...        WIDOWED  WHITE   \n",
       "4                NaN       NaN  ...         SINGLE  WHITE   \n",
       "\n",
       "             edregtime            edouttime hospital_expire_flag  gender  \\\n",
       "0  2180-05-06 19:17:00  2180-05-06 23:30:00                    0       F   \n",
       "1  2180-06-26 15:54:00  2180-06-26 21:31:00                    0       F   \n",
       "2  2180-08-05 20:58:00  2180-08-06 01:44:00                    0       F   \n",
       "3  2180-07-23 05:54:00  2180-07-23 14:00:00                    0       F   \n",
       "4  2160-03-03 21:55:00  2160-03-04 06:26:00                    0       F   \n",
       "\n",
       "  anchor_age  anchor_year  anchor_year_group         dod  \n",
       "0         52         2180        2014 - 2016  2180-09-09  \n",
       "1         52         2180        2014 - 2016  2180-09-09  \n",
       "2         52         2180        2014 - 2016  2180-09-09  \n",
       "3         52         2180        2014 - 2016  2180-09-09  \n",
       "4         19         2160        2008 - 2010         NaN  \n",
       "\n",
       "[5 rows x 21 columns]"
      ]
     },
     "execution_count": 8,
     "metadata": {},
     "output_type": "execute_result"
    }
   ],
   "source": [
    "merged = pd.merge(admissions, patients, on='subject_id', how='inner')\n",
    "merged.head()"
   ]
  },
  {
   "cell_type": "code",
   "execution_count": null,
   "metadata": {},
   "outputs": [
    {
     "data": {
      "application/vnd.microsoft.datawrangler.viewer.v0+json": {
       "columns": [
        {
         "name": "index",
         "rawType": "int64",
         "type": "integer"
        },
        {
         "name": "true_admission_year",
         "rawType": "int64",
         "type": "integer"
        }
       ],
       "ref": "175403ba-e4f7-4b80-b3a8-f99e0ac033c6",
       "rows": [
        [
         "0",
         "2180"
        ],
        [
         "1",
         "2180"
        ],
        [
         "2",
         "2180"
        ],
        [
         "3",
         "2180"
        ],
        [
         "4",
         "2160"
        ]
       ],
       "shape": {
        "columns": 1,
        "rows": 5
       }
      },
      "text/plain": [
       "0    2180\n",
       "1    2180\n",
       "2    2180\n",
       "3    2180\n",
       "4    2160\n",
       "Name: true_admission_year, dtype: int64"
      ]
     },
     "execution_count": 17,
     "metadata": {},
     "output_type": "execute_result"
    }
   ],
   "source": [
    "# 1. Ensure 'admittime' is a datetime object\n",
    "merged['admittime'] = pd.to_datetime(merged['admittime'])\n",
    "\n",
    "# 2. For each patient, find the year of their EARLIEST shifted admission\n",
    "first_admission_year_shifted = merged.groupby('subject_id')['admittime'].min().dt.year\n",
    "\n",
    "# 3. Map this earliest shifted year back to every admission for each patient\n",
    "merged['first_admission_year_shifted'] = merged['subject_id'].map(first_admission_year_shifted)\n",
    "\n",
    "# 4. Calculate the unique date shift for each patient\n",
    "# This is the difference between their first shifted year and their true anchor year\n",
    "merged['date_shift'] = merged['first_admission_year_shifted'] - merged['anchor_year']\n",
    "\n",
    "# 5. Create the 'true_admission_year' column by subtracting the shift\n",
    "merged['true_admission_year'] = merged['admittime'].dt.year - merged['date_shift']\n",
    "\n",
    "merged.head()"
   ]
  },
  {
   "cell_type": "code",
   "execution_count": null,
   "metadata": {},
   "outputs": [
    {
     "name": "stdout",
     "output_type": "stream",
     "text": [
      "Visualization saved as 'age_distribution.png'\n"
     ]
    },
    {
     "data": {
      "image/png": "[encoded data removed]",
      "text/plain": [
       "<Figure size 1200x700 with 1 Axes>"
      ]
     },
     "metadata": {},
     "output_type": "display_data"
    }
   ],
   "source": [
    "sns.set_style(\"whitegrid\")\n",
    "plt.figure(figsize=(12, 7))\n",
    "\n",
    "sns.histplot(merged['age_at_admission'], bins=30, kde=True, color='skyblue')\n",
    "\n",
    "# Add titles and labels\n",
    "plt.title('Distribution of Patient Age at Admission in MIMIC-IV', fontsize=16)\n",
    "plt.xlabel('Age at Admission', fontsize=12)\n",
    "plt.ylabel('Number of Admissions', fontsize=12)\n",
    "\n",
    "# Saving the plot as an image file \n",
    "plt.savefig('age_distribution.png')\n"
   ]
  },
  {
   "cell_type": "code",
   "execution_count": 22,
   "metadata": {},
   "outputs": [
    {
     "name": "stdout",
     "output_type": "stream",
     "text": [
      "Unique Anchor Years: ['2008 - 2010' '2011 - 2013' '2014 - 2016' '2017 - 2019' '2020 - 2022']\n"
     ]
    }
   ],
   "source": [
    "unique_anchor_years = merged['anchor_year_group'].unique()\n",
    "unique_anchor_years.sort()\n",
    "print(\"Unique Anchor Years:\", unique_anchor_years)"
   ]
  },
  {
   "cell_type": "code",
   "execution_count": null,
   "metadata": {},
   "outputs": [
    {
     "name": "stdout",
     "output_type": "stream",
     "text": [
      "Historical Age Distribution:\n",
      " count    433687.000000\n",
      "mean         59.381826\n",
      "std          19.015244\n",
      "min          18.000000\n",
      "25%          46.000000\n",
      "50%          61.000000\n",
      "75%          74.000000\n",
      "max         106.000000\n",
      "Name: age_at_admission, dtype: float64\n",
      "\n",
      "Contemporary Age Distribution:\n",
      " count    112341.000000\n",
      "mean         58.286823\n",
      "std          19.619936\n",
      "min          18.000000\n",
      "25%          43.000000\n",
      "50%          61.000000\n",
      "75%          73.000000\n",
      "max          97.000000\n",
      "Name: age_at_admission, dtype: float64\n"
     ]
    }
   ],
   "source": [
    "historical_groups = ['2008 - 2010', '2011 - 2013', '2014 - 2016']\n",
    "contemporary_groups = ['2017 - 2019', '2020 - 2022']\n",
    "\n",
    "historical = merged[merged['anchor_year_group'].isin(historical_groups)]\n",
    "contemporary = merged[merged['anchor_year_group'].isin(contemporary_groups)]\n",
    "\n",
    "historical_age_distribution = historical['age_at_admission'].describe()\n",
    "contemporary_age_distribution = contemporary['age_at_admission'].describe()\n",
    "\n",
    "print(\"Historical Age Distribution:\\n\", historical_age_distribution)\n",
    "print(\"\\nContemporary Age Distribution:\\n\", contemporary_age_distribution)\n",
    "\n",
    "historical.head() "
   ]
  }
 ],
 "metadata": {
  "kernelspec": {
   "display_name": "Python 3",
   "language": "python",
   "name": "python3"
  },
  "language_info": {
   "codemirror_mode": {
    "name": "ipython",
    "version": 3
   },
   "file_extension": ".py",
   "mimetype": "text/x-python",
   "name": "python",
   "nbconvert_exporter": "python",
   "pygments_lexer": "ipython3",
   "version": "3.11.9"
  }
 },
 "nbformat": 4,
 "nbformat_minor": 2
}
