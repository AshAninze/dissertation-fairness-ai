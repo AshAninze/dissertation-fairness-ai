{
 "cells": [
  {
   "cell_type": "code",
   "execution_count": 2,
   "metadata": {},
   "outputs": [],
   "source": [
    "import pandas as pd\n"
   ]
  },
  {
   "cell_type": "code",
   "execution_count": null,
   "metadata": {},
   "outputs": [],
   "source": [
    "data_path = r'C:\\Users\\aaani\\OneDrive - Birmingham City University\\Postgrad\\Dissertation\\Data'\n",
    "df = pd.read_csv(f'{data_path}/final_dataset.csv.gz')"
   ]
  },
  {
   "cell_type": "code",
   "execution_count": 3,
   "metadata": {},
   "outputs": [
    {
     "ename": "NameError",
     "evalue": "name 'df' is not defined",
     "output_type": "error",
     "traceback": [
      "\u001b[31m---------------------------------------------------------------------------\u001b[39m",
      "\u001b[31mNameError\u001b[39m                                 Traceback (most recent call last)",
      "\u001b[36mCell\u001b[39m\u001b[36m \u001b[39m\u001b[32mIn[3]\u001b[39m\u001b[32m, line 5\u001b[39m\n\u001b[32m      1\u001b[39m \u001b[38;5;66;03m# to display all columns, to be able to asses the na values\u001b[39;00m\n\u001b[32m      2\u001b[39m pd.set_option(\u001b[33m'\u001b[39m\u001b[33mdisplay.max_rows\u001b[39m\u001b[33m'\u001b[39m, \u001b[38;5;28;01mNone\u001b[39;00m)\n\u001b[32m----> \u001b[39m\u001b[32m5\u001b[39m missing_counts = \u001b[43mdf\u001b[49m.isnull().sum()\n\u001b[32m      6\u001b[39m missing_values_df = pd.DataFrame({\n\u001b[32m      7\u001b[39m     \u001b[33m'\u001b[39m\u001b[33mmissing_count\u001b[39m\u001b[33m'\u001b[39m: missing_counts,\n\u001b[32m      8\u001b[39m })\n\u001b[32m     10\u001b[39m \u001b[38;5;28mprint\u001b[39m(missing_values_df.sort_values(by=\u001b[33m'\u001b[39m\u001b[33mmissing_count\u001b[39m\u001b[33m'\u001b[39m, ascending=\u001b[38;5;28;01mFalse\u001b[39;00m))\n",
      "\u001b[31mNameError\u001b[39m: name 'df' is not defined"
     ]
    }
   ],
   "source": [
    "# to display all columns, to be able to asses the na values\n",
    "pd.set_option('display.max_rows', None)\n",
    "\n",
    "\n",
    "missing_counts = df.isnull().sum()\n",
    "missing_values_df = pd.DataFrame({\n",
    "    'missing_count': missing_counts,\n",
    "})\n",
    "\n",
    "print(missing_values_df.sort_values(by='missing_count', ascending=False))\n"
   ]
  }
 ],
 "metadata": {
  "kernelspec": {
   "display_name": "Python 3",
   "language": "python",
   "name": "python3"
  },
  "language_info": {
   "codemirror_mode": {
    "name": "ipython",
    "version": 3
   },
   "file_extension": ".py",
   "mimetype": "text/x-python",
   "name": "python",
   "nbconvert_exporter": "python",
   "pygments_lexer": "ipython3",
   "version": "3.11.9"
  }
 },
 "nbformat": 4,
 "nbformat_minor": 2
}
