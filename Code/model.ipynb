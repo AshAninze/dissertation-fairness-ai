{
 "cells": [
  {
   "cell_type": "code",
   "execution_count": 2,
   "metadata": {},
   "outputs": [],
   "source": [
    "import pandas as pd\n",
    "from sklearn.model_selection import train_test_split"
   ]
  },
  {
   "cell_type": "code",
   "execution_count": 3,
   "metadata": {},
   "outputs": [],
   "source": [
    "data_path = r'C:\\Users\\aaani\\OneDrive - Birmingham City University\\Postgrad\\Dissertation\\Data'\n",
    "historical = pd.read_csv(f'{data_path}/historical_cohort.csv.gz')\n",
    "contemporary = pd.read_csv(f'{data_path}/contemporary_cohort.csv.gz')"
   ]
  },
  {
   "cell_type": "code",
   "execution_count": null,
   "metadata": {},
   "outputs": [
    {
     "name": "stdout",
     "output_type": "stream",
     "text": [
      "Historical Features (X_historical) shape: (5052629, 73)\n",
      "Historical Target (y_historical) shape: (5052629,)\n",
      "Contemporary Features (X_contemporary) shape: (1546728, 73)\n",
      "Contemporary Target (y_contemporary) shape: (1546728,)\n"
     ]
    }
   ],
   "source": [
    "target_variable = 'readmission_30d'\n",
    "\n",
    "# Separate features (X) and the target variable (y)\n",
    "X_historical = historical.drop(target_variable, axis=1)\n",
    "y_historical = historical[target_variable]\n",
    "\n",
    "X_contemporary = contemporary.drop(target_variable, axis=1)\n",
    "y_contemporary = contemporary[target_variable]\n",
    "\n",
    "# Display the shapes of the data to confirm everything is loaded correctly\n",
    "print(f\"Historical Features (X_historical) shape: {X_historical.shape}\")\n",
    "print(f\"Historical Target (y_historical) shape: {y_historical.shape}\")\n",
    "print(f\"Contemporary Features (X_contemporary) shape: {X_contemporary.shape}\")\n",
    "print(f\"Contemporary Target (y_contemporary) shape: {y_contemporary.shape}\")"
   ]
  },
  {
   "cell_type": "code",
   "execution_count": 8,
   "metadata": {},
   "outputs": [
    {
     "data": {
      "application/vnd.microsoft.datawrangler.viewer.v0+json": {
       "columns": [
        {
         "name": "readmission_30d",
         "rawType": "int64",
         "type": "integer"
        },
        {
         "name": "proportion",
         "rawType": "float64",
         "type": "float"
        }
       ],
       "ref": "092970d3-9516-4bb9-9c51-47ef7ba85086",
       "rows": [
        [
         "0",
         "76.54341927737026"
        ],
        [
         "1",
         "23.456580722629745"
        ]
       ],
       "shape": {
        "columns": 1,
        "rows": 2
       }
      },
      "text/plain": [
       "readmission_30d\n",
       "0    76.543419\n",
       "1    23.456581\n",
       "Name: proportion, dtype: float64"
      ]
     },
     "execution_count": 8,
     "metadata": {},
     "output_type": "execute_result"
    }
   ],
   "source": [
    "y_historical.value_counts(normalize=True) * 100"
   ]
  },
  {
   "cell_type": "code",
   "execution_count": 9,
   "metadata": {},
   "outputs": [
    {
     "data": {
      "application/vnd.microsoft.datawrangler.viewer.v0+json": {
       "columns": [
        {
         "name": "readmission_30d",
         "rawType": "int64",
         "type": "integer"
        },
        {
         "name": "proportion",
         "rawType": "float64",
         "type": "float"
        }
       ],
       "ref": "b574a767-1b86-4bea-a6f6-bff4bfe6bbef",
       "rows": [
        [
         "0",
         "80.21003046430918"
        ],
        [
         "1",
         "19.789969535690826"
        ]
       ],
       "shape": {
        "columns": 1,
        "rows": 2
       }
      },
      "text/plain": [
       "readmission_30d\n",
       "0    80.21003\n",
       "1    19.78997\n",
       "Name: proportion, dtype: float64"
      ]
     },
     "execution_count": 9,
     "metadata": {},
     "output_type": "execute_result"
    }
   ],
   "source": [
    "y_contemporary.value_counts(normalize=True) * 100"
   ]
  }
 ],
 "metadata": {
  "kernelspec": {
   "display_name": ".venv",
   "language": "python",
   "name": "python3"
  },
  "language_info": {
   "codemirror_mode": {
    "name": "ipython",
    "version": 3
   },
   "file_extension": ".py",
   "mimetype": "text/x-python",
   "name": "python",
   "nbconvert_exporter": "python",
   "pygments_lexer": "ipython3",
   "version": "3.11.9"
  }
 },
 "nbformat": 4,
 "nbformat_minor": 2
}
